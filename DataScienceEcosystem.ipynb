{
 "cells": [
  {
   "cell_type": "markdown",
   "id": "56660b77-e32e-4831-b649-6bb198ffc555",
   "metadata": {},
   "source": [
    "# Data Science Tools and Ecosystem"
   ]
  },
  {
   "cell_type": "markdown",
   "id": "70fec9af-013a-4c4f-8340-ec1ef984630c",
   "metadata": {},
   "source": [
    "In this notebook, Data Science Tools and Ecosystem are summarized. "
   ]
  },
  {
   "cell_type": "markdown",
   "id": "acbd9880-e229-4b13-aab0-39188bdf41dc",
   "metadata": {},
   "source": [
    "**Objectives:**"
   ]
  },
  {
   "cell_type": "markdown",
   "id": "b82acf9d-61ba-4476-aec5-6afa3908434a",
   "metadata": {},
   "source": [
    "* List popular languages for Data Science\n",
    "* popular languages that Data Scientists use\n",
    "* commonly used libraries used by Data Scientists\n",
    "* few examples of evaluating arithmetic expressions in Python"
   ]
  },
  {
   "cell_type": "markdown",
   "id": "faa9638c-f78f-49e5-a6b7-07bade57964e",
   "metadata": {
    "tags": []
   },
   "source": [
    "Some of the popular languages that Data Scientists use are :\n",
    "- Python\n",
    "- R\n",
    "- SQL"
   ]
  },
  {
   "cell_type": "markdown",
   "id": "93a03b83-d828-47fd-91d1-b60e3d53ab16",
   "metadata": {},
   "source": [
    "Some of the commonly used libraries used by Data Scientists include:\n",
    "1. Pytorch\n",
    "2. Scala\n",
    "3. NumPy\n",
    "4. Apache Spark\n",
    "5. Tensor Flow\n",
    "6. Scala"
   ]
  },
  {
   "cell_type": "markdown",
   "id": "cff81c63-a425-4b99-8abe-54c77c3bc734",
   "metadata": {
    "tags": []
   },
   "source": [
    "| Data Science Tools |\n",
    "----------\n",
    "| Jupyter Notebook |\n",
    "| MySQL |\n",
    "| MongoDB |\n",
    "| Git |\n",
    "| KNIM |"
   ]
  },
  {
   "cell_type": "markdown",
   "id": "c643cc61-67b3-407b-b486-cb30cee3a4c2",
   "metadata": {},
   "source": [
    "### Below are a few examples of evaluating arithmetic expressions in Python"
   ]
  },
  {
   "cell_type": "code",
   "execution_count": 16,
   "id": "b9b8c742-432b-4d97-8d56-213ba87c77a8",
   "metadata": {
    "tags": []
   },
   "outputs": [
    {
     "data": {
      "text/plain": [
       "17"
      ]
     },
     "execution_count": 16,
     "metadata": {},
     "output_type": "execute_result"
    }
   ],
   "source": [
    "# This a simple arithmetic expression to mutiply then add integers\n",
    "(3*4)+5"
   ]
  },
  {
   "cell_type": "code",
   "execution_count": 17,
   "id": "20109722-08cd-43bc-8e8c-949454008f50",
   "metadata": {
    "tags": []
   },
   "outputs": [
    {
     "data": {
      "text/plain": [
       "3.3333333333333335"
      ]
     },
     "execution_count": 17,
     "metadata": {},
     "output_type": "execute_result"
    }
   ],
   "source": [
    "# This will convert 200 minutes to hours by diving by 60\n",
    "200/60"
   ]
  },
  {
   "cell_type": "markdown",
   "id": "fec4dc90-01d3-45f9-890b-9fed828fa6a0",
   "metadata": {},
   "source": [
    "## Author"
   ]
  },
  {
   "cell_type": "markdown",
   "id": "c955e7de-c5a6-4ab4-acb9-406dfbd1a2bc",
   "metadata": {},
   "source": [
    "Rabii Abouaissa"
   ]
  },
  {
   "cell_type": "code",
   "execution_count": null,
   "id": "0a5148e9-9016-499b-a25f-f25e516d5abf",
   "metadata": {},
   "outputs": [],
   "source": []
  }
 ],
 "metadata": {
  "kernelspec": {
   "display_name": "Python",
   "language": "python",
   "name": "conda-env-python-py"
  },
  "language_info": {
   "codemirror_mode": {
    "name": "ipython",
    "version": 3
   },
   "file_extension": ".py",
   "mimetype": "text/x-python",
   "name": "python",
   "nbconvert_exporter": "python",
   "pygments_lexer": "ipython3",
   "version": "3.7.12"
  }
 },
 "nbformat": 4,
 "nbformat_minor": 5
}
